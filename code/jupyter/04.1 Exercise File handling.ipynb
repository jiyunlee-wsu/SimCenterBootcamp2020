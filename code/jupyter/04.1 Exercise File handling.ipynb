{
 "cells": [
  {
   "cell_type": "markdown",
   "metadata": {},
   "source": [
    "# Exercise 4: File handling"
   ]
  },
  {
   "cell_type": "code",
   "execution_count": 11,
   "metadata": {},
   "outputs": [],
   "source": [
    "import numpy as np\n",
    "import matplotlib.pyplot as plt"
   ]
  },
  {
   "cell_type": "markdown",
   "metadata": {},
   "source": [
    "## Problem 1: \n",
    "\n",
    "Open and read the file 'ExampleData.txt'.  This file is a plain text file providing data as comma-separated list.  An example of this file looks like this:\n",
    "~~~\n",
    "1.0,0.0,\n",
    "1.0043021179718516,0.06331229237152888,\n",
    "1.0045749747914792,0.12716436093274708,\n",
    "1.0007678438038003,0.1912984977208162,\n",
    "...\n",
    "~~~\n",
    "Each line represents the X and Y coordinate on one point on a polygon.\n",
    "\n",
    "**Your tasks**: \n",
    "1. read this file making sure to implement proper exception handling.\n",
    "2. plot the polygon.  Make sure to preserve correct proportions and angles by setting equal axis scaling."
   ]
  },
  {
   "cell_type": "code",
   "execution_count": null,
   "metadata": {},
   "outputs": [],
   "source": [
    "\n",
    "try:\n",
    "    f = open('ExampleData.txt','r')\n",
    "except IOError:\n",
    "    print('CANNOT OPEN ExampleData.txt FOR READING')\n",
    "    raise\n",
    "\n",
    "x = []\n",
    "y = []\n",
    "for line in f:\n",
    "    string_list = line.split(',')\n",
    "    x.append(float(string_list[0]))\n",
    "    y.append(float(string_list[1]))   \n",
    "\n",
    "f.close()\n",
    "\n",
    "plt.plot(x,y,'r-')\n",
    "plt.axis('equal')\n",
    "plt.xlabel('X')\n",
    "plt.ylabel('Y')\n"
   ]
  },
  {
   "cell_type": "markdown",
   "metadata": {},
   "source": [
    "## Problem 2: \n",
    "\n",
    "**Your tasks**: \n",
    "1. Using the **pandas** library, read 'SheetWind' from 'ExcelDemo.xlsx' and provide the mean, standard deviation, max, and min values for the columns 'vx1','vy1','vx2','vy2','vx3','vy3'\n",
    "2. plot 'vy2' against 'vx2'"
   ]
  },
  {
   "cell_type": "code",
   "execution_count": null,
   "metadata": {},
   "outputs": [],
   "source": [
    "import pandas as pd\n",
    "xlsx = pd.ExcelFile('ExcelDemo.xlsx')\n",
    "df = pd.read_excel(xlsx, 'SheetWind')\n",
    "\n",
    "targets = ['vx1','vy1','vx2','vy2','vx3','vy3']\n",
    "\n",
    "for k in targets:\n",
    "    col = df[k]\n",
    "    print(\"{}:\\nmean {:12.8f}\\nstdev {:12.8f}\\nmax {:12.8f}\\nmin {:12.8f}\\n\".format(k,np.mean(col),np.std(col),np.max(col),np.min(col)))\n"
   ]
  },
  {
   "cell_type": "markdown",
   "metadata": {},
   "source": [
    "## Problem 3: \n",
    "\n",
    "**Your tasks**: \n",
    "1. Read 'ExampleData.txt' line by line and create a DataFrame object with the same content as that source file.  Make sure to add labels 'X' and 'Y' to th efirst and second column, respectively.\n",
    "2. write that information to an excel file named 'Problem3.xlsx'\n",
    "3. open the 'Problem3.xlsx' file in Excel and plot X versus Y. Verify that the file was created correctly by comparing the chart in Excel with your answer to Problem 1."
   ]
  },
  {
   "cell_type": "code",
   "execution_count": 10,
   "metadata": {},
   "outputs": [
    {
     "ename": "NameError",
     "evalue": "name 'pd' is not defined",
     "output_type": "error",
     "traceback": [
      "\u001b[1;31m---------------------------------------------------------------------------\u001b[0m",
      "\u001b[1;31mNameError\u001b[0m                                 Traceback (most recent call last)",
      "\u001b[1;32m<ipython-input-10-ad6bde0809ee>\u001b[0m in \u001b[0;36m<module>\u001b[1;34m\u001b[0m\n\u001b[0;32m      8\u001b[0m     \u001b[0my\u001b[0m\u001b[1;33m.\u001b[0m\u001b[0mappend\u001b[0m\u001b[1;33m(\u001b[0m\u001b[0mfloat\u001b[0m\u001b[1;33m(\u001b[0m\u001b[0mstringList\u001b[0m\u001b[1;33m[\u001b[0m\u001b[1;36m1\u001b[0m\u001b[1;33m]\u001b[0m\u001b[1;33m)\u001b[0m\u001b[1;33m)\u001b[0m\u001b[1;33m\u001b[0m\u001b[1;33m\u001b[0m\u001b[0m\n\u001b[0;32m      9\u001b[0m \u001b[1;33m\u001b[0m\u001b[0m\n\u001b[1;32m---> 10\u001b[1;33m my_df = pd.DataFrame({\n\u001b[0m\u001b[0;32m     11\u001b[0m         \u001b[1;34m\"X\"\u001b[0m\u001b[1;33m:\u001b[0m \u001b[0mx\u001b[0m\u001b[1;33m,\u001b[0m\u001b[1;33m\u001b[0m\u001b[1;33m\u001b[0m\u001b[0m\n\u001b[0;32m     12\u001b[0m         \"Y\": y}\n",
      "\u001b[1;31mNameError\u001b[0m: name 'pd' is not defined"
     ]
    }
   ],
   "source": [
    "\n",
    "\n",
    "f = open('ExampleData.txt','r')\n",
    "x = []\n",
    "y = []\n",
    "for line in f:\n",
    "    newLine = line.strip()\n",
    "    stringList = newLine.split(',')\n",
    "    x.append(float(stringList[0]))\n",
    "    y.append(float(stringList[1]))\n",
    "\n",
    "my_df = pd.DataFrame({\n",
    "        \"X\": x,\n",
    "        \"Y\": y}\n",
    "    )\n",
    "\n",
    "my_df.to_excel('Problem3.xlsx', sheet_name='SheetDemo')"
   ]
  },
  {
   "cell_type": "code",
   "execution_count": null,
   "metadata": {},
   "outputs": [],
   "source": []
  }
 ],
 "metadata": {
  "kernelspec": {
   "display_name": "Python 3",
   "language": "python",
   "name": "python3"
  },
  "language_info": {
   "codemirror_mode": {
    "name": "ipython",
    "version": 3
   },
   "file_extension": ".py",
   "mimetype": "text/x-python",
   "name": "python",
   "nbconvert_exporter": "python",
   "pygments_lexer": "ipython3",
   "version": "3.7.8"
  }
 },
 "nbformat": 4,
 "nbformat_minor": 4
}
